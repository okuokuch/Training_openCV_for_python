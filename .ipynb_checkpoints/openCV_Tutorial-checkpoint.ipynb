{
 "cells": [
  {
   "cell_type": "markdown",
   "id": "92509c03-fd8b-4391-8ee2-1cea4944e69d",
   "metadata": {},
   "source": [
    "# OpenCV for Pythonのチュートリアル解説"
   ]
  },
  {
   "cell_type": "markdown",
   "id": "0de3ccfb-b63e-4d2c-a53f-4be83b15f88d",
   "metadata": {},
   "source": [
    "ここでは、OpenCVのドキュメントに書いてあるチュートリアルを実践します。  \n",
    "https://docs.opencv.org/4.x/d6/d00/tutorial_py_root.html  \n",
    "このJupyterLabのファイルはGitHub上で公開しています。  \n",
    "https://github.com/okuokuch/Training_openCV_for_python"
   ]
  },
  {
   "cell_type": "markdown",
   "id": "9a1deec3-0d5a-4b5e-be28-c7f19b8c6b6e",
   "metadata": {},
   "source": [
    "## 前提条件\n",
    "1. Pythonの基礎技術\n",
    "    1. 基本文法(if文、データ型、コメントアウト etc.)\n",
    "    1. 組み込み関数(print, len, type etc.)\n",
    "    1. 演算子(+, *, /, != etc.)\n",
    "1. ライブラリのインストール(CV2,Numpy etr.)\n",
    "1. JupyterLabを使用  \n",
    "基本知識や環境構築に関して自分で行ってください  \n",
    "以下に勉強になる関連リンクを添付しました。  \n",
    "\n",
    "本取り組みの作成者おくおくは、Anaconda3にて環境構築しています。\n",
    "\n",
    "基本文法に関するリンク  \n",
    "https://www.sejuku.net/blog/49951  "
   ]
  },
  {
   "cell_type": "markdown",
   "id": "a7cbe1db-c72d-4ea8-a9e9-555b0151888e",
   "metadata": {},
   "source": [
    "上記で不明な点があれば、キーワードを拾ってググってみてください。"
   ]
  },
  {
   "cell_type": "markdown",
   "id": "4e25719d-cbdb-4ebb-9e52-b62134e102e6",
   "metadata": {},
   "source": [
    "## 1. Gui Features in OpenCV"
   ]
  },
  {
   "cell_type": "markdown",
   "id": "a4aa61c2-6a95-40aa-adcb-d9e0c672e7a8",
   "metadata": {},
   "source": [
    "ここでは、Gui Features in OpenCVルのうち以下項目の実践をします。\n",
    "* Getting Started with Images\n",
    "* Drawing Functions in OpenCV\n",
    "* Mouse as a Paint-Brush\n",
    "* Trackbar as the Color Palette"
   ]
  },
  {
   "cell_type": "markdown",
   "id": "70f940b9-1a2e-4607-9d1a-1fe17942c384",
   "metadata": {},
   "source": [
    "### 1. Getting Started with Images\n",
    "この項目では以下5つの関数の説明をします。\n",
    "* imread\n",
    "* imshow\n",
    "* waitKey\n",
    "* destroyAllwindows\n",
    "* imwrite"
   ]
  },
  {
   "cell_type": "markdown",
   "id": "0ba10e06-b40f-498d-a025-c1d503d995ed",
   "metadata": {},
   "source": [
    "#### <span style=\"color: red; \">**cv2.imread(\"ファイル名\",[読み取り方])**<span>\n",
    "**画像ファイルの読み込み**  \n",
    "ファイル名は文字列で指定。  \n",
    "読み取り方はドキュメント参照。  \n",
    "* カラー\n",
    "* 白黒\n",
    "* 透明度込み\n",
    "など"
   ]
  },
  {
   "cell_type": "markdown",
   "id": "f7f40b61-621f-43bc-a555-8dee2882147f",
   "metadata": {},
   "source": [
    "#### <span style=\"color: red; \">**cv2.imshow(\"表示名\",表示したい変数)**</span>\n",
    "**画像ファイルの表示**  \n",
    "表示名は文字列で指定。  \n",
    "表示名はWindowのタグ部分に表示される。"
   ]
  },
  {
   "cell_type": "markdown",
   "id": "1a3f4c92-737f-4ab8-b553-3b21dd143ecc",
   "metadata": {},
   "source": [
    "#### <span style=\"color: red; \">**cv2.waitKey(数字(int型))**</span>\n",
    "**処理の中断**  \n",
    "数字は整数(int型)を入れる。  \n",
    "数字ミリ秒の間windowが表示される。  \n",
    "waitKeyを設定しないと、図が表示されて一瞬で消えるのでimshowの結果を見ることができない。  \n",
    "waitKey(0)とすると、キーボード入力された場合に消える設定。  \n",
    "数字は負の整数でも0の時と同様の挙動。"
   ]
  },
  {
   "cell_type": "markdown",
   "id": "22406dee-1555-4707-939a-420271352bd3",
   "metadata": {},
   "source": [
    "#### <span style=\"color: red; \">**cv2.destroyAllWindows()**</span>\n",
    "**表示中のすべてのwindwoを削除する**"
   ]
  },
  {
   "cell_type": "markdown",
   "id": "b7f96607-e9f4-467e-a056-5f28d3037d86",
   "metadata": {},
   "source": [
    "#### <span style=\"color: red; \">**cv2.imwrite(\"保存ファイル名\",保存したい変数,[フォーマット指定])**</span>\n",
    "**画像ファイルを保存する**  \n",
    "保存ファイル名は文字列で指定。  \n",
    "保存したい変数に画像の変数を指定。  \n",
    "フォーマット指定では、エンコード関係の設定。"
   ]
  },
  {
   "cell_type": "code",
   "execution_count": 1,
   "id": "1f9e4c9d-0df1-42f2-9380-96633e5c4f39",
   "metadata": {},
   "outputs": [],
   "source": [
    "import cv2\n",
    "import numpy as np\n",
    "import os"
   ]
  },
  {
   "cell_type": "code",
   "execution_count": 2,
   "id": "d961d0b3-10b5-4fc9-927c-7d3de2bde248",
   "metadata": {},
   "outputs": [],
   "source": [
    "img=cv2.imread(\"template_img\\\\openCV.png\")"
   ]
  },
  {
   "cell_type": "code",
   "execution_count": 3,
   "id": "199911bf-95ae-42ff-a017-cddc620993b8",
   "metadata": {},
   "outputs": [],
   "source": [
    "cv2.imshow(\"test\",img)\n",
    "cv2.waitKey(0)\n",
    "cv2.destroyAllWindows()"
   ]
  }
 ],
 "metadata": {
  "kernelspec": {
   "display_name": "Python 3",
   "language": "python",
   "name": "python3"
  },
  "language_info": {
   "codemirror_mode": {
    "name": "ipython",
    "version": 3
   },
   "file_extension": ".py",
   "mimetype": "text/x-python",
   "name": "python",
   "nbconvert_exporter": "python",
   "pygments_lexer": "ipython3",
   "version": "3.8.8"
  }
 },
 "nbformat": 4,
 "nbformat_minor": 5
}
