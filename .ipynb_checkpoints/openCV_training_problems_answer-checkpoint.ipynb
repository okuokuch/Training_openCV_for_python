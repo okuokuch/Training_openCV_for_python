{
 "cells": [
  {
   "cell_type": "markdown",
   "id": "5f9e6d3d-98be-4ef9-a768-63328b5bb97a",
   "metadata": {},
   "source": [
    "# OpenCVの練習問題の解答  \n",
    "ここでは、解説動画で勉強したことをもとに練習問題を解いていきます。  \n",
    "あくまでもここに記入した解答は一例です。  \n",
    "さらに良い(短い、わかりやすい)コードを作り出してみましょう。\n",
    "## 1. GUI Features in OpenCV"
   ]
  },
  {
   "cell_type": "markdown",
   "id": "eb5816f7-2b49-419a-8c97-350e84d9610c",
   "metadata": {},
   "source": [
    "### Getting Started with Images"
   ]
  },
  {
   "cell_type": "markdown",
   "id": "30f32814-0b8a-4d3c-958a-6e1c45950b5f",
   "metadata": {},
   "source": [
    "cv2とnumpyをimportしましょう"
   ]
  },
  {
   "cell_type": "code",
   "execution_count": 1,
   "id": "c8cbc534-c724-4156-9995-72624b6fea59",
   "metadata": {},
   "outputs": [],
   "source": [
    "import cv2\n",
    "import numpy as np\n",
    "#numpyはnpとしてimportしています。慣習的にそうすることが多いです。"
   ]
  },
  {
   "cell_type": "markdown",
   "id": "5ebab26c-5c3e-470c-a6ba-da7710dd3ddd",
   "metadata": {},
   "source": [
    "template_imgフォルダの中にあるpython.pngファイルを読み込みましょう  \n",
    "次に、openCV.pngのファイルも読み込みましょう"
   ]
  },
  {
   "cell_type": "code",
   "execution_count": 2,
   "id": "109a6cd2-e0df-4c97-ab55-ed2a1038580c",
   "metadata": {},
   "outputs": [],
   "source": [
    "img=cv2.imread(\"template_img\\\\python.png\")\n",
    "img2=cv2.imread(\"template_img\\\\openCV.png\")"
   ]
  },
  {
   "cell_type": "markdown",
   "id": "3d2fad54-006b-465a-8d7c-5e30be5276e8",
   "metadata": {},
   "source": [
    "読み込んだpython.pngを表示してみましょう"
   ]
  },
  {
   "cell_type": "code",
   "execution_count": 3,
   "id": "2da3901e-9797-42cb-be54-8d0b23d4e9bd",
   "metadata": {},
   "outputs": [],
   "source": [
    "cv2.imshow(\"python\",img)\n",
    "cv2.waitKey(0)\n",
    "cv2.destroyAllWindows()"
   ]
  },
  {
   "cell_type": "markdown",
   "id": "89b5c0d7-172b-4d18-a1d0-21d808ddf235",
   "metadata": {},
   "source": [
    "読み込んだopenCV.pngのファイルを表示してみましょう"
   ]
  },
  {
   "cell_type": "code",
   "execution_count": 4,
   "id": "f4218746-7151-4ff4-86c4-f316407b199d",
   "metadata": {},
   "outputs": [],
   "source": [
    "cv2.imshow(\"openCV\",img2)\n",
    "cv2.waitKey(0)\n",
    "cv2.destroyAllWindows()"
   ]
  },
  {
   "cell_type": "markdown",
   "id": "da239a35-5b53-4ee5-b34c-9a9c30a4eb9c",
   "metadata": {},
   "source": [
    "読み込んだpython.pngを1秒間表示させてみましょう"
   ]
  },
  {
   "cell_type": "code",
   "execution_count": 5,
   "id": "ffdb7271-dad1-489b-9649-31bced6f819c",
   "metadata": {},
   "outputs": [],
   "source": [
    "cv2.imshow(\"python\",img)\n",
    "cv2.waitKey(1000)\n",
    "cv2.destroyAllWindows()"
   ]
  },
  {
   "cell_type": "markdown",
   "id": "f307e975-8b80-4970-97c5-f305fc64dea9",
   "metadata": {},
   "source": [
    "template_imgフォルダ内のpython.pngファイルをグレースケールで読み込み、表示してみましょう"
   ]
  },
  {
   "cell_type": "code",
   "execution_count": 6,
   "id": "a47a2ef4-3ed9-4fc6-971e-e21fe803bb69",
   "metadata": {},
   "outputs": [],
   "source": [
    "img_gray=cv2.imread(\"template_img\\\\python.png\",cv2.IMREAD_GRAYSCALE)\n",
    "cv2.imshow(\"python\",img_gray)\n",
    "cv2.waitKey(0)\n",
    "cv2.destroyAllWindows()"
   ]
  },
  {
   "cell_type": "markdown",
   "id": "e72a4de2-d945-4893-acf8-d3e0fe81b0df",
   "metadata": {},
   "source": [
    "python.pngファイルをグレースケールで読み込み、python_gray.pngとして保存してみましょう"
   ]
  },
  {
   "cell_type": "code",
   "execution_count": 7,
   "id": "74e269fe-0d15-42c5-8a69-9dd40ac9c42c",
   "metadata": {},
   "outputs": [
    {
     "data": {
      "text/plain": [
       "True"
      ]
     },
     "execution_count": 7,
     "metadata": {},
     "output_type": "execute_result"
    }
   ],
   "source": [
    "cv2.imwrite(\"template_img\\\\python_gray.png\",img_gray)"
   ]
  },
  {
   "cell_type": "markdown",
   "id": "ad81d0d9-fac8-4af4-9bee-08d75eca1e87",
   "metadata": {},
   "source": [
    "【応用】python.pngを読み込むときに1/2のサイズで読み込み、それを表示してみましょう  \n",
    "https://docs.opencv.org/4.x/d8/d6a/group__imgcodecs__flags.html#ga61d9b0126a3e57d9277ac48327799c80  \n",
    "上記ページの ImreadModesの欄から読み取り方に何があるか調べてみましょう"
   ]
  },
  {
   "cell_type": "code",
   "execution_count": 8,
   "id": "bea5f15f-d739-4e98-9a36-1438a7448c5b",
   "metadata": {},
   "outputs": [],
   "source": [
    "img_gray=cv2.imread(\"template_img\\\\python.png\",cv2.IMREAD_REDUCED_COLOR_2)\n",
    "cv2.imshow(\"python\",img_gray)\n",
    "cv2.waitKey(0)\n",
    "cv2.destroyAllWindows()"
   ]
  }
 ],
 "metadata": {
  "kernelspec": {
   "display_name": "Python 3",
   "language": "python",
   "name": "python3"
  },
  "language_info": {
   "codemirror_mode": {
    "name": "ipython",
    "version": 3
   },
   "file_extension": ".py",
   "mimetype": "text/x-python",
   "name": "python",
   "nbconvert_exporter": "python",
   "pygments_lexer": "ipython3",
   "version": "3.8.8"
  }
 },
 "nbformat": 4,
 "nbformat_minor": 5
}
