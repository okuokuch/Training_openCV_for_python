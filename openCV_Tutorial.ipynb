{
 "cells": [
  {
   "cell_type": "markdown",
   "id": "92509c03-fd8b-4391-8ee2-1cea4944e69d",
   "metadata": {},
   "source": [
    "# OpenCV for Pythonのチュートリアル解説"
   ]
  },
  {
   "cell_type": "markdown",
   "id": "0de3ccfb-b63e-4d2c-a53f-4be83b15f88d",
   "metadata": {},
   "source": [
    "ここでは、OpenCVのドキュメントに書いてあるチュートリアルを実践します。  \n",
    "https://docs.opencv.org/4.x/d6/d00/tutorial_py_root.html  \n",
    "このJupyterLabのファイルはGitHub上で公開しています。  \n",
    "https://github.com/okuokuch/Training_openCV_for_python"
   ]
  },
  {
   "cell_type": "markdown",
   "id": "9a1deec3-0d5a-4b5e-be28-c7f19b8c6b6e",
   "metadata": {},
   "source": [
    "## 前提条件\n",
    "1. Pythonの基礎技術\n",
    "    1. 基本文法(if文、データ型、コメントアウト etc.)\n",
    "    1. 組み込み関数(print, len, type etc.)\n",
    "    1. 演算子(+, *, /, != etc.)\n",
    "1. ライブラリのインストール(CV2,Numpy etr.)\n",
    "1. JupyterLabを使用  \n",
    "基本知識や環境構築に関して自分で行ってください  \n",
    "以下に勉強になる関連リンクを添付しました。  \n",
    "\n",
    "本取り組みの作成者おくおくは、Anaconda3にて環境構築しています。\n",
    "\n",
    "基本文法に関するリンク  \n",
    "https://www.sejuku.net/blog/49951  "
   ]
  },
  {
   "cell_type": "markdown",
   "id": "a7cbe1db-c72d-4ea8-a9e9-555b0151888e",
   "metadata": {},
   "source": [
    "上記で不明な点があれば、キーワードを拾ってググってみてください。"
   ]
  },
  {
   "cell_type": "markdown",
   "id": "4e25719d-cbdb-4ebb-9e52-b62134e102e6",
   "metadata": {},
   "source": [
    "## Gui Features in OpenCV"
   ]
  },
  {
   "cell_type": "markdown",
   "id": "a4aa61c2-6a95-40aa-adcb-d9e0c672e7a8",
   "metadata": {},
   "source": [
    "ここでは、Gui Features in OpenCVルのうち以下項目の実践をします。\n",
    "* Getting Started with Images\n",
    "* Drawing Functions in OpenCV\n",
    "* Mouse as a Paint-Brush\n",
    "* Trackbar as the Color Palette"
   ]
  },
  {
   "cell_type": "markdown",
   "id": "70f940b9-1a2e-4607-9d1a-1fe17942c384",
   "metadata": {},
   "source": [
    "### Getting Started with Images\n",
    "この項目では以下5つの関数の説明をします。\n",
    "* imread\n",
    "* imshow\n",
    "* waitKey\n",
    "* destroyAllwindows\n",
    "* imwrite"
   ]
  },
  {
   "cell_type": "markdown",
   "id": "0bb1b269-89e3-4fa6-97f1-e5150bd01a7f",
   "metadata": {},
   "source": [
    "チュートリアルURL  \n",
    "https://docs.opencv.org/4.x/db/deb/tutorial_display_image.html   \n",
    "関数URL  \n",
    "https://docs.opencv.org/4.x/d4/da8/group__imgcodecs.html#ga288b8b3da0892bd651fce07b3bbd3a56  \n",
    "https://docs.opencv.org/4.x/d7/dfc/group__highgui.html#ga5628525ad33f52eab17feebcfba38bd7"
   ]
  },
  {
   "cell_type": "markdown",
   "id": "0ba10e06-b40f-498d-a025-c1d503d995ed",
   "metadata": {},
   "source": [
    "#### <span style=\"color: red; \">**cv2.imread(\"ファイル名\",[読み取り方])**<span>\n",
    "**画像ファイルの読み込み**  \n",
    "ファイル名は文字列で指定。  \n",
    "読み取り方はドキュメント参照。  \n",
    "* カラー\n",
    "* 白黒\n",
    "* 透明度込み\n",
    "など"
   ]
  },
  {
   "cell_type": "markdown",
   "id": "f7f40b61-621f-43bc-a555-8dee2882147f",
   "metadata": {},
   "source": [
    "#### <span style=\"color: red; \">**cv2.imshow(\"表示名\",表示したい変数)**</span>\n",
    "**画像ファイルの表示**  \n",
    "表示名は文字列で指定。  \n",
    "表示名はWindowのタグ部分に表示される。"
   ]
  },
  {
   "cell_type": "markdown",
   "id": "1a3f4c92-737f-4ab8-b553-3b21dd143ecc",
   "metadata": {},
   "source": [
    "#### <span style=\"color: red; \">**cv2.waitKey(数字(int型))**</span>\n",
    "**処理の中断**  \n",
    "数字は整数(int型)を入れる。  \n",
    "数字ミリ秒の間windowが表示される。  \n",
    "waitKeyを設定しないと、図が表示されて一瞬で消えるのでimshowの結果を見ることができない。  \n",
    "waitKey(0)とすると、キーボード入力された場合に消える設定。  \n",
    "数字は負の整数でも0の時と同様の挙動。"
   ]
  },
  {
   "cell_type": "markdown",
   "id": "22406dee-1555-4707-939a-420271352bd3",
   "metadata": {},
   "source": [
    "#### <span style=\"color: red; \">**cv2.destroyAllWindows()**</span>\n",
    "**表示中のすべてのwindwoを削除**"
   ]
  },
  {
   "cell_type": "markdown",
   "id": "b7f96607-e9f4-467e-a056-5f28d3037d86",
   "metadata": {},
   "source": [
    "#### <span style=\"color: red; \">**cv2.imwrite(\"保存ファイル名\",保存したい変数,[フォーマット指定])**</span>\n",
    "**画像ファイルを保存**  \n",
    "保存ファイル名は文字列で指定。  \n",
    "保存したい変数に画像の変数を指定。  \n",
    "フォーマット指定では、エンコード関係の設定。"
   ]
  },
  {
   "cell_type": "code",
   "execution_count": 6,
   "id": "1f9e4c9d-0df1-42f2-9380-96633e5c4f39",
   "metadata": {},
   "outputs": [],
   "source": [
    "import cv2\n",
    "import numpy as np"
   ]
  },
  {
   "cell_type": "code",
   "execution_count": 7,
   "id": "d961d0b3-10b5-4fc9-927c-7d3de2bde248",
   "metadata": {},
   "outputs": [],
   "source": [
    "img=cv2.imread(\"template_img\\\\python.png\")"
   ]
  },
  {
   "cell_type": "code",
   "execution_count": 3,
   "id": "5b3e8535-084c-43a3-864b-f7cfe6cc5251",
   "metadata": {},
   "outputs": [],
   "source": [
    "gray=cv2.imread(\"template_img\\\\python.png\",cv2.IMREAD_GRAYSCALE)"
   ]
  },
  {
   "cell_type": "code",
   "execution_count": 10,
   "id": "5b999f9e-3c4d-410e-a79c-fa05d125e63c",
   "metadata": {},
   "outputs": [],
   "source": [
    "gray2=cv2.imread(\"template_img\\\\opencv.png\",cv2.IMREAD_GRAYSCALE)"
   ]
  },
  {
   "cell_type": "code",
   "execution_count": 9,
   "id": "199911bf-95ae-42ff-a017-cddc620993b8",
   "metadata": {},
   "outputs": [],
   "source": [
    "cv2.imshow(\"python\",img2)\n",
    "cv2.waitKey(0)\n",
    "cv2.destroyAllWindows()"
   ]
  },
  {
   "cell_type": "code",
   "execution_count": 15,
   "id": "acdb6357-77cf-414d-9240-1d17d8a5200d",
   "metadata": {},
   "outputs": [
    {
     "data": {
      "text/plain": [
       "True"
      ]
     },
     "execution_count": 15,
     "metadata": {},
     "output_type": "execute_result"
    }
   ],
   "source": [
    "cv2.imwrite(\"template_img\\\\python_gray.png\",gray)"
   ]
  },
  {
   "cell_type": "markdown",
   "id": "0d277816-92c0-4d8f-854f-8dfdbf80426c",
   "metadata": {},
   "source": [
    "### Drawing Functions in OpenCV  \n",
    "この章では、図形を描写する関数を紹介します。  \n",
    "紹介する関数は以下です。\n",
    "* line\n",
    "* rectangle\n",
    "* arrowedLine\n",
    "* circle\n",
    "* Ellipse\n",
    "* Polygon\n",
    "* putText"
   ]
  },
  {
   "cell_type": "markdown",
   "id": "25e70007-6799-448b-8b98-17ceea192b0f",
   "metadata": {},
   "source": [
    "チュートリアルURL  \n",
    "https://docs.opencv.org/4.x/dc/da5/tutorial_py_drawing_functions.html  \n",
    "関数URL  \n",
    "https://docs.opencv.org/4.x/d6/d6e/group__imgproc__draw.html#gac865734d137287c0afb7682ff7b3db23"
   ]
  },
  {
   "cell_type": "markdown",
   "id": "4ea1fa62-61e7-4b28-a3e3-8f4d97114b03",
   "metadata": {},
   "source": [
    "#### <span style=\"color: red; \">**cv2.line(画像変数,始点,終点,色,[線幅],[ライン種類],[分数bit])**<span>\n",
    "**画像変数に直線を描写**  \n",
    "始点、終点はタプル(x,y)で指定。  \n",
    "色は(B,R,G)で指定。各色は0~255で指定。  \n",
    "線幅は1以上の整数を指定。  \n",
    "ライン種類は線の境目の種類。  \n",
    "分数bitは、0以上の整数を記入。始点、終点の座標値が2^分数bit乗される。  \n",
    "例) 0なら同じ位置、1なら全部半分の値、2なら1/4の値"
   ]
  },
  {
   "cell_type": "markdown",
   "id": "ef0659d1-0782-4fcf-8c23-825c64a9c056",
   "metadata": {},
   "source": [
    "#### <span style=\"color: red; \">**cv2.rectangle(画像変数,頂点1,頂点2,色,[線幅],[ライン種類],[分数bit])**<span>\n",
    "**画像変数に四角形を描写**  \n",
    "頂点1、頂点2はタプル(x,y)で指定。  \n",
    "色は(B,R,G)で指定。各色は0~255で指定。  \n",
    "線幅は1以上の整数の場合、枠線の太さ。負の整数を記入した場合、中塗りの四角形。  \n",
    "ライン種類は線の境目の種類。  \n",
    "分数bitは、0以上の整数を記入。始点、終点の座標値が2^分数bit乗される。  \n",
    "例) 0なら同じ位置、1なら全部半分の値、2なら1/4の値"
   ]
  },
  {
   "cell_type": "markdown",
   "id": "4151018c-b7da-4a13-b672-2ebfc7c0fa45",
   "metadata": {},
   "source": [
    "#### <span style=\"color: red; \">**cv2.arrowedLine(画像変数,頂点1,頂点2,色,[線幅],[ライン種類],[分数bit],[矢印の大きさ])**<span>\n",
    "**画像変数に矢印線を描写**  \n",
    "頂点1、頂点2はタプル(x,y)で指定。  \n",
    "色は(B,R,G)で指定。各色は0~255で指定。  \n",
    "線幅は1以上の整数を指定  \n",
    "ライン種類は線の境目の種類。  \n",
    "分数bitは、0以上の整数を記入。始点、終点の座標値が2^分数bit乗される。  \n",
    "例) 0なら同じ位置、1なら全部半分の値、2なら1/4の値  \n",
    "矢印の大きさは、矢印の長さとの相関を小数で指定。"
   ]
  },
  {
   "cell_type": "markdown",
   "id": "fb05b42d-94c2-411e-a6df-30d31c0e2265",
   "metadata": {},
   "source": [
    "#### <span style=\"color: red; \">**cv2.circle(画像変数,中心,半径,色,[線幅],[ライン種類],[分数bit])**<span>\n",
    "**画像変数に円を描写**  \n",
    "中心はタプル(x,y)で指定。  \n",
    "半径は整数で指定。  \n",
    "色は(B,R,G)で指定。各色は0~255で指定。  \n",
    "線幅は1以上の整数の場合、枠線の太さ。負の整数を記入した場合、中塗りの円。  \n",
    "ライン種類は線の境目の種類。  \n",
    "分数bitは、0以上の整数を記入。始点、終点の座標値が2^分数bit乗される。  \n",
    "例) 0なら同じ位置、1なら全部半分の値、2なら1/4の値  "
   ]
  },
  {
   "cell_type": "markdown",
   "id": "fe423c2d-6071-44ec-92c5-dfe8f49732f3",
   "metadata": {},
   "source": [
    "#### <span style=\"color: red; \">**cv2.ellipse(画像変数,中心,軸の長さ,角度,開始角度,終了角度,色,[線幅],[ライン種類],[分数bit])**<span>\n",
    "**画像変数に楕円を描写**  \n",
    "中心はタプル(x,y)で指定。  \n",
    "軸の長さは(長軸の半分,短軸の半分)で指定。  \n",
    "角度は長軸を時計回りで回転させる角度を小数で指定。  \n",
    "開始角度、終了角度は楕円を描く部分を小数で指定。  \n",
    "色は(B,R,G)で指定。各色は0~255で指定。  \n",
    "線幅は1以上の整数の場合、枠線の太さ。負の整数を記入した場合、中塗りの楕円。  \n",
    "ライン種類は線の境目の種類。  \n",
    "分数bitは、0以上の整数を記入。始点、終点の座標値が2^分数bit乗される。  \n",
    "例) 0なら同じ位置、1なら全部半分の値、2なら1/4の値  "
   ]
  },
  {
   "cell_type": "markdown",
   "id": "f16fcb18-fd8a-486f-b3ce-c73f38c7a8c6",
   "metadata": {},
   "source": [
    "#### <span style=\"color: red; \">**cv2.polylines(画像変数,頂点の配列,曲線を閉じるか,色,[線幅],[ライン種類],[分数bit])**<span>\n",
    "**画像変数に多角形を描写**  \n",
    "頂点の配列にはrows×1×2となる形式で配列を指定。詳細は動画で解説。  \n",
    "曲線を閉じるかをTrueにした場合、始点と終点の頂点を結ぶ線が引かれる。  \n",
    "色は(B,R,G)で指定。各色は0~255で指定。  \n",
    "線幅は1以上の整数。 \n",
    "ライン種類は線の境目の種類。  \n",
    "分数bitは、0以上の整数を記入。始点、終点の座標値が2^分数bit乗される。  \n",
    "例) 0なら同じ位置、1なら全部半分の値、2なら1/4の値  "
   ]
  },
  {
   "cell_type": "markdown",
   "id": "63465c74-4e20-489e-bbb3-2c1c767d158d",
   "metadata": {},
   "source": [
    "#### <span style=\"color: red; \">**cv2.putText(画像変数,テキスト,左下の位置,フォント,フォントサイズの倍率,色,[太さ],[ライン種類],[原点位置])**<span>\n",
    "**画像変数に文字を描写**  \n",
    "テキストに文字列を記入\"\"で囲む。\n",
    "文字の左下が原点位置。    \n",
    "フォントはHersheyFontsから選べるが、<span style=\"color: red; \">日本語は表示不可</span>。  \n",
    "フォントサイズの倍率は少数で指定。\n",
    "色は(B,R,G)で指定。各色は0~255で指定。  \n",
    "線幅は1以上の整数。 \n",
    "ライン種類は線の境目の種類。  \n",
    "原点位置がTrueなら左下が原点、Falseなら右上が原点となる。  "
   ]
  },
  {
   "cell_type": "code",
   "execution_count": 24,
   "id": "b7ed52ff-28ba-4fa3-86a4-7c4bf3ed7bd0",
   "metadata": {},
   "outputs": [
    {
     "name": "stdout",
     "output_type": "stream",
     "text": [
      "[[[255 255 255]\n",
      "  [255 255 255]\n",
      "  [255 255 255]\n",
      "  ...\n",
      "  [255 255 255]\n",
      "  [255 255 255]\n",
      "  [255 255 255]]\n",
      "\n",
      " [[255 255 255]\n",
      "  [255 255 255]\n",
      "  [255 255 255]\n",
      "  ...\n",
      "  [255 255 255]\n",
      "  [255 255 255]\n",
      "  [255 255 255]]\n",
      "\n",
      " [[255 255 255]\n",
      "  [255 255 255]\n",
      "  [255 255 255]\n",
      "  ...\n",
      "  [255 255 255]\n",
      "  [255 255 255]\n",
      "  [255 255 255]]\n",
      "\n",
      " ...\n",
      "\n",
      " [[255 255 255]\n",
      "  [255 255 255]\n",
      "  [255 255 255]\n",
      "  ...\n",
      "  [255 255 255]\n",
      "  [255 255 255]\n",
      "  [255 255 255]]\n",
      "\n",
      " [[255 255 255]\n",
      "  [255 255 255]\n",
      "  [255 255 255]\n",
      "  ...\n",
      "  [255 255 255]\n",
      "  [255 255 255]\n",
      "  [255 255 255]]\n",
      "\n",
      " [[255 255 255]\n",
      "  [255 255 255]\n",
      "  [255 255 255]\n",
      "  ...\n",
      "  [255 255 255]\n",
      "  [255 255 255]\n",
      "  [255 255 255]]]\n"
     ]
    }
   ],
   "source": [
    "img=np.zeros((500,500,3),np.uint8)\n",
    "img[:]=255\n",
    "print(img)\n",
    "cv2.imshow(\"test\",img)\n",
    "cv2.waitKey(0)\n",
    "cv2.destroyAllWindows()"
   ]
  },
  {
   "cell_type": "code",
   "execution_count": 89,
   "id": "5b5bc265-887d-44c4-9718-4e8772104e50",
   "metadata": {},
   "outputs": [],
   "source": [
    "img=np.zeros((500,500,3),np.uint8)\n",
    "img[:]=255\n",
    "\n",
    "cv2.line(img,(0,0),(200,100),(255,0,0),4,shift=0)\n",
    "cv2.line(img,(100,0),(200,100),(0,255,0),5,shift=2)\n",
    "cv2.rectangle(img,(300,200),(100,10),(0,0,255),-1)\n",
    "cv2.arrowedLine(img,(400,0),(300,300),(255,0,0),2,tipLength=0.05)\n",
    "cv2.circle(img,(200,200),50,(0,0,0),-1)\n",
    "cv2.ellipse(img,(250,250),(100,50),0,45,225,(255,0,255),-1)\n",
    "pts = np.array([[350,220],[400,235],[350,250],[150,80]], np.int32)\n",
    "pts=pts.reshape((-1,1,2))\n",
    "cv2.fillPoly(img,[pts],(0,0,0))\n",
    "cv2.putText(img,\"by okuoku\",(100,430),cv2.FONT_HERSHEY_SIMPLEX,1,(0,0,0),2)\n",
    "cv2.imshow(\"test\",img)\n",
    "cv2.waitKey(0)\n",
    "cv2.destroyAllWindows()"
   ]
  },
  {
   "cell_type": "markdown",
   "id": "3cd7cfaf-f693-4891-83c0-11a6816e1cbb",
   "metadata": {},
   "source": [
    "ミズゴロウの図"
   ]
  },
  {
   "cell_type": "code",
   "execution_count": 90,
   "id": "381f7e2b-ff51-4efb-972f-23b216a4da6c",
   "metadata": {},
   "outputs": [],
   "source": [
    "img=np.zeros((512,512,3),np.uint8)\n",
    "img[:]=255\n",
    "pts = np.array([[350,220],[400,235],[350,250]], np.int32)\n",
    "pts = pts.reshape((-1,1,2))\n",
    "cv2.fillPoly(img,[pts],(10,80,160))\n",
    "pts2 = np.array([[350,245],[400,260],[350,275]], np.int32)\n",
    "pts2 = pts2.reshape((-1,1,2))\n",
    "cv2.fillPoly(img,[pts2],(10,80,160))\n",
    "pts3 = np.array([[350,270],[400,285],[350,300]], np.int32)\n",
    "pts3 = pts3.reshape((-1,1,2))\n",
    "cv2.fillPoly(img,[pts3],(10,80,160))\n",
    "pts4 = np.array([[158,220],[108,235],[158,250]], np.int32)\n",
    "pts4 = pts4.reshape((-1,1,2))\n",
    "cv2.fillPoly(img,[pts4],(10,80,160))\n",
    "pts5 = np.array([[158,245],[108,260],[158,275]], np.int32)\n",
    "pts5 = pts5.reshape((-1,1,2))\n",
    "cv2.fillPoly(img,[pts5],(10,80,160))\n",
    "pts6 = np.array([[158,270],[108,285],[158,300]], np.int32)\n",
    "pts6 = pts6.reshape((-1,1,2))\n",
    "cv2.fillPoly(img,[pts6],(10,80,160))\n",
    "cv2.ellipse(img,(256,256),(110,80),0,0,360,(200,60,40),-1)\n",
    "cv2.ellipse(img,(256,256),(20,150),0,180,360,(200,60,40),-1)\n",
    "cv2.ellipse(img,(233,220),(10,20),0,0,360,(0,0,0),-1)\n",
    "cv2.ellipse(img,(279,220),(10,20),0,0,360,(0,0,0),-1)\n",
    "cv2.ellipse(img,(256,300),(80,34),0,0,360,(230,160,160),-1)\n",
    "cv2.ellipse(img,(340,256),(30,50),0,0,360,(10,80,160),-1)\n",
    "cv2.ellipse(img,(172,256),(30,50),0,0,360,(10,80,160),-1)\n",
    "cv2.putText(img,\"by okuoku\",(100,430),cv2.FONT_HERSHEY_SIMPLEX,2,(0,0,0),4)\n",
    "cv2.imshow(\"mizugorou\",img)\n",
    "cv2.imwrite(\"mizugorou.jpg\",img)\n",
    "cv2.waitKey(0)\n",
    "cv2.destroyAllWindows()"
   ]
  },
  {
   "cell_type": "markdown",
   "id": "f88dc8f9-6c2e-471d-9923-a07a45212013",
   "metadata": {},
   "source": [
    "numpyの確認"
   ]
  },
  {
   "cell_type": "code",
   "execution_count": 61,
   "id": "3f82b8b4-ddff-46c0-ad63-480072816367",
   "metadata": {},
   "outputs": [
    {
     "name": "stdout",
     "output_type": "stream",
     "text": [
      "[[350 220]\n",
      " [400 235]\n",
      " [350 250]\n",
      " [350 250]]\n",
      "[[[350 220]]\n",
      "\n",
      " [[400 235]]\n",
      "\n",
      " [[350 250]]\n",
      "\n",
      " [[350 250]]]\n"
     ]
    }
   ],
   "source": [
    "pts = np.array([[350,220],[400,235],[350,250],[350,250]], np.int32)\n",
    "print(pts)\n",
    "pts = pts.reshape((-1,1,2))\n",
    "print(pts)"
   ]
  }
 ],
 "metadata": {
  "kernelspec": {
   "display_name": "Python 3",
   "language": "python",
   "name": "python3"
  },
  "language_info": {
   "codemirror_mode": {
    "name": "ipython",
    "version": 3
   },
   "file_extension": ".py",
   "mimetype": "text/x-python",
   "name": "python",
   "nbconvert_exporter": "python",
   "pygments_lexer": "ipython3",
   "version": "3.8.8"
  },
  "toc-autonumbering": true,
  "toc-showmarkdowntxt": false
 },
 "nbformat": 4,
 "nbformat_minor": 5
}
